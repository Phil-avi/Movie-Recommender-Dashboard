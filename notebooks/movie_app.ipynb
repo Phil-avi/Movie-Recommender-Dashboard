{
 "cells": [
  {
   "cell_type": "markdown",
   "metadata": {},
   "source": [
    "<img style=\"float: right; height:30px\" src=\"Data/tmdb.logo.png\"> "
   ]
  },
  {
   "cell_type": "markdown",
   "metadata": {},
   "source": [
    "# Movie Recommendation System"
   ]
  },
  {
   "cell_type": "markdown",
   "metadata": {},
   "source": [
    "<div style=\"text-align: right\">Author: Phil Li</div>"
   ]
  },
  {
   "cell_type": "markdown",
   "metadata": {},
   "source": [
    "## Project Background\n",
    "As a huge movie and anime (Yes, I said it) enthusiast, I've always been very proud of my taste in movies and been pretty picky about the movies I watch (since two hours feels quite like a big commitment…). Because of this, I often find most of the existing movie recommendation systems unconvincing due to their high non-transparency in the information reduction process. Consequently, while working on improving the complexity of my models, I decided to build this dashboard based on the research of `Dr.Christian Richthammer` [Interactive Visualization of Recommender Systems Data](https://core.ac.uk/download/pdf/211567607.pdf) and to utilize the power of interactive visualizations."
   ]
  },
  {
   "cell_type": "code",
   "execution_count": null,
   "metadata": {},
   "outputs": [],
   "source": [
    "## Load Data"
   ]
  },
  {
   "cell_type": "code",
   "execution_count": 1,
   "metadata": {},
   "outputs": [],
   "source": [
    "import pandas as pd\n",
    "import numpy as np\n",
    "import os\n",
    "import matplotlib.pyplot as plt\n",
    "# %matplotlib inline\n",
    "%matplotlib widget\n",
    "import plotly.graph_objects as go\n",
    "import ipyvuetify as v\n",
    "pd.set_option('display.max_columns',40)\n",
    "import warnings\n",
    "# def ignore_warnings():\n",
    "#     pass\n",
    "# warnings.warn=ignore_warnings"
   ]
  },
  {
   "cell_type": "code",
   "execution_count": null,
   "metadata": {},
   "outputs": [],
   "source": [
    "# os.chmod('/opt/conda/lib/python3.8/site-packages/.wh.certifi-2020.6.20-py3.6.egg-info',0o755)\n",
    "# os.chmod('/opt/conda/lib/python3.8/site-packages/.wh.certifi-2020.6.20-py3.8.egg-info',0o755)\n",
    "# os.chmod('/opt/conda/lib/python3.8/site-packages/.wh.certifi-2020.12.5-py3.8.egg-info',0o755)"
   ]
  },
  {
   "cell_type": "code",
   "execution_count": 2,
   "metadata": {},
   "outputs": [],
   "source": [
    "movies_rating=pd.read_csv('Data/movies_rating.csv')\n",
    "movies_data=pd.read_csv('Data/movies_data.csv')"
   ]
  },
  {
   "cell_type": "code",
   "execution_count": null,
   "metadata": {},
   "outputs": [],
   "source": [
    "### IMDB API (poster-url)"
   ]
  },
  {
   "cell_type": "code",
   "execution_count": 3,
   "metadata": {},
   "outputs": [],
   "source": [
    "# import requests\n",
    "# import json\n",
    "# for i in movies_data.title:\n",
    "#     strip_name=i.replace(' ','%20')\n",
    "#     baseurl=f'https://api.themoviedb.org/3/search/movie?api_key=48cd39c471c265f648d9b27cc1e89afe&language=en-US&query={strip_name}&page=1&include_adult=false'\n",
    "#     response=requests.get(baseurl)\n",
    "#     content=response.content\n",
    "#     info=json.loads(content)\n",
    "#     movies_data.loc[movies_data['title']==i,'poster']=f\"https://image.tmdb.org/t/p/w500/{info['results'][0]['poster_path']}\""
   ]
  },
  {
   "cell_type": "code",
   "execution_count": null,
   "metadata": {},
   "outputs": [],
   "source": [
    "# Content-based filtering (credits, genres and keywords)"
   ]
  },
  {
   "cell_type": "code",
   "execution_count": 4,
   "metadata": {},
   "outputs": [],
   "source": [
    "# use CountVectorizer() because we do not want to down-weight the presence of an actor/director if he or she has acted or directed in relatively more movies.\n",
    "from sklearn.feature_extraction.text import CountVectorizer\n",
    "count=CountVectorizer(stop_words='english')\n",
    "count_matrix=count.fit_transform(movies_data['soup'])"
   ]
  },
  {
   "cell_type": "code",
   "execution_count": 5,
   "metadata": {},
   "outputs": [],
   "source": [
    "# compute the cosine similartity matrix based on the count_matrix\n",
    "from sklearn.metrics.pairwise import cosine_similarity\n",
    "cos_sim=cosine_similarity(count_matrix,count_matrix)"
   ]
  },
  {
   "cell_type": "code",
   "execution_count": null,
   "metadata": {},
   "outputs": [],
   "source": [
    "## Dashboard and Hybrid Engine"
   ]
  },
  {
   "cell_type": "code",
   "execution_count": 6,
   "metadata": {},
   "outputs": [],
   "source": [
    "# finding the index from movie titles\n",
    "indices=pd.Series(movies_data.index,index=movies_data['title']).drop_duplicates()"
   ]
  },
  {
   "cell_type": "code",
   "execution_count": 7,
   "metadata": {},
   "outputs": [],
   "source": [
    "def hybrid(movie):\n",
    "    index=np.flip(np.argsort(cos_sim[indices[movie]])[-21:-1])\n",
    "    movies_filtered=movies_data.loc[index]\n",
    "    movies_filtered.sort_values('rating_2',ascending=False,inplace=True)\n",
    "    return movies_filtered.reset_index(drop=True)"
   ]
  },
  {
   "cell_type": "code",
   "execution_count": 8,
   "metadata": {},
   "outputs": [],
   "source": [
    "df=hybrid('Tangled')"
   ]
  },
  {
   "cell_type": "code",
   "execution_count": 9,
   "metadata": {},
   "outputs": [],
   "source": [
    "def update_click(widget,event,data):\n",
    "    num=0\n",
    "    top_5=1\n",
    "    for i in figure.data[0]['dimensions']:\n",
    "        if isinstance(i['constraintrange'],tuple):\n",
    "            if isinstance(i['constraintrange'][0],tuple):\n",
    "                sub_5=[]\n",
    "                for a in range(len(i['constraintrange'])):\n",
    "                    index=df[(df[str.lower(i['label'])]<=i['constraintrange'][a][1]) & (df[str.lower(i['label'])]>=i['constraintrange'][a][0])].index.values\n",
    "                    sub_5+=list(index)\n",
    "                if num==0:\n",
    "                    top_5=sub_5\n",
    "                    num+=1\n",
    "                else:\n",
    "                    top_5=list(set.intersection(set(top_5),set(sub_5)))    \n",
    "            \n",
    "            else:            \n",
    "                index=df[(df[str.lower(i['label'])]<=i['constraintrange'][1]) & (df[str.lower(i['label'])]>=i['constraintrange'][0])].index.values\n",
    "                if num==0:\n",
    "                    top_5=list(index)\n",
    "                    num+=1\n",
    "                else:\n",
    "                    top_5=list(set.intersection(set(top_5),set(index)))\n",
    "                \n",
    "    if isinstance(top_5,list):\n",
    "        top_5=sorted(top_5)[:5]\n",
    "    else:\n",
    "        top_5=[0,1,2,3,4]\n",
    "    \n",
    "    top=top_5\n",
    "\n",
    "    for i in range(len(top)):\n",
    "        movies_num[f'{i}'].children=[f'{top[i]+1}']\n",
    "        movies_name[f'{i}'].children=[f\"{df['title'].loc[top[i]]}\"]\n",
    "        movies_genre[f'{i}'].children=[f\"Genre: {df['genre_name'].loc[top[i]]}\"]\n",
    "        movies_lan[f'{i}'].children=[f\"Language: {df['language_name'].loc[top[i]]}\"]\n",
    "        movies_run[f'{i}'].children=[f\"Running time: {df['runtime_name'].loc[top[i]]}\"]\n",
    "        movies_rate[f'{i}'].children=[f\"{df['rating_2'].loc[top[i]]}\"]\n",
    "    \n",
    "    movies_lst['lst'].children=[movies_rows[f'row_{i}'] for i in range(len(top))]\n",
    "    movies_title.children=[movies_name['0'].children[0]]\n",
    "    movies_poster.src=df.loc[top[0]].poster\n",
    "    movies_cast.children=[df.loc[top[0]].cast]"
   ]
  },
  {
   "cell_type": "code",
   "execution_count": 10,
   "metadata": {},
   "outputs": [],
   "source": [
    "def update_title(widget,event,data):\n",
    "    movies_title.children=list(widget.children[1].children[0].children[0])\n",
    "    movies_poster.src=df[df['title']==widget.children[1].children[0].children[0]].poster.values[0]\n",
    "    movies_cast.children=[df[df['title']==widget.children[1].children[0].children[0]].cast.values[0]]"
   ]
  },
  {
   "cell_type": "code",
   "execution_count": 11,
   "metadata": {},
   "outputs": [],
   "source": [
    "def update_everything(widget,event,movie):\n",
    "    global df\n",
    "    df=hybrid(movie)\n",
    "    \n",
    "    # update the parallel coordinates\n",
    "    figure.data[0]['dimensions'][0].values=df['genre']\n",
    "    figure.data[0]['dimensions'][0]['constraintrange']=None\n",
    "    figure.data[0]['dimensions'][1].values=df['year']\n",
    "    figure.data[0]['dimensions'][1]['constraintrange']=None\n",
    "    figure.data[0]['dimensions'][2].values=df['language']\n",
    "    figure.data[0]['dimensions'][2]['constraintrange']=None\n",
    "    figure.data[0]['dimensions'][3].values=df['runtime']\n",
    "    figure.data[0]['dimensions'][3]['constraintrange']=None\n",
    "    figure.data[0]['line'].color=df['genre']\n",
    "    \n",
    "    #update the list\n",
    "    for i in range(5):\n",
    "        movies_num[f'{i}'].children=[f'{i+1}']\n",
    "        movies_name[f'{i}'].children=[f\"{df['title'][i]}\"]\n",
    "        movies_genre[f'{i}'].children=[f\"Genre: {df['genre_name'][i]}\"]\n",
    "        movies_lan[f'{i}'].children=[f\"Language: {df['language_name'][i]}\"]\n",
    "        movies_run[f'{i}'].children=[f\"Running time: {df['runtime_name'][i]}\"]\n",
    "        movies_rate[f'{i}'].children=[f\"{df['rating_2'][i]}\"]\n",
    "\n",
    "    movies_lst['lst'].children=[movies_rows[f'row_{i}'] for i in range(5)]\n",
    "    movies_title.children=[movies_name['0'].children[0]]\n",
    "    movies_poster.src=df['poster'][0]\n",
    "    movies_cast.children=[df['cast'][0]]"
   ]
  },
  {
   "cell_type": "code",
   "execution_count": 12,
   "metadata": {},
   "outputs": [],
   "source": [
    "# parallel_coordinates widget\n",
    "fig=go.Figure(data=\n",
    "         go.Parcoords(\n",
    "         line = dict(color = df['genre'],\n",
    "               colorscale = 'Inferno',\n",
    "               showscale = True,\n",
    "               cmin = 1,\n",
    "               cmax = 6),\n",
    "         dimensions=list([\n",
    "             dict(range=[1,6],\n",
    "                 tickvals=[1,2,3,4,5,6],\n",
    "                 label='Genre', values = df['genre'],\n",
    "                 ticktext=['Action','Horror','Comedy','Animation','Drama','Others']),\n",
    "             dict(range=[1916,2016],\n",
    "                  label='Year', values = df['year'],\n",
    "                 ),\n",
    "             dict(range=[1,5],\n",
    "                 tickvals=[1,2,3,4,5],\n",
    "                 label='Language',values = df['language'],\n",
    "                 ticktext=['English','French','Spanish','Japanese','Others']),\n",
    "             dict(range=[25,254],\n",
    "                 label='Runtime',values = df['runtime']\n",
    "                 )\n",
    "         ])))\n",
    "fig.update_layout(\n",
    "#     height=400,\n",
    "    autosize=True,\n",
    "    plot_bgcolor = 'white',\n",
    "    paper_bgcolor = 'white',\n",
    ");\n",
    "figure=go.FigureWidget(fig)"
   ]
  },
  {
   "cell_type": "code",
   "execution_count": 13,
   "metadata": {},
   "outputs": [],
   "source": [
    "# movies list widget\n",
    "movies_num={f'{i}': v.Html(tag='span',class_='white--text',children=[f'{i+1}']) for i in range(5)}\n",
    "movies_name={f'{i}': v.ListItemTitle(class_='deep-purple--text text--accent-4',children=[f\"{df['title'][i]}\"]) for i in range(5)}\n",
    "movies_genre={f'{i}': v.ListItemSubtitle(children=[f\"Genre: {df['genre_name'][i]}\"]) for i in range(5)}\n",
    "movies_lan={f'{i}': v.ListItemTitle(children=[f\"Language: {df['language_name'][i]}\"]) for i in range(5)}\n",
    "movies_run={f'{i}': v.ListItemSubtitle(children=[f\"Running time: {df['runtime_name'][i]}\"]) for i in range(5)}\n",
    "movies_rate={f'{i}': v.ListItemTitle(children=[v.Html(tag='p',class_='font-weight-bold font-italic',children=[f\"{df['rating_2'][i]}\"])]) for i in range(5)}\n",
    "\n",
    "movies_rows={f'row_{i}':    v.ListItem(v_model=1,two_line=True,children=[\n",
    "                            v.ListItemIcon(children=[v.Avatar(color='teal',size=25,children=[movies_num[f'{i}']])]),\n",
    "                            v.ListItemContent(children=[movies_name[f'{i}'],\n",
    "                                                       movies_genre[f'{i}']]),\n",
    "                            v.ListItemContent(class_='text-center',children=[movies_lan[f'{i}'],\n",
    "                                                       movies_run[f'{i}']]),\n",
    "                            v.ListItemContent(class_='text-right',children=[movies_rate[f'{i}']]),\n",
    "                            v.ListItemIcon(class_='text-right',children=[v.Icon(medium=True,color='yellow darken-1',children=['mdi-star'])]),\n",
    "                        ])  for i in range(5)}\n",
    "\n",
    "movies_lst={'lst':v.ListItemGroup(children=[movies_rows[f'row_{i}'] for i in range(5)])}\n",
    "for i in range(5):\n",
    "    movies_rows[f'row_{i}'].on_event('click',update_title)"
   ]
  },
  {
   "cell_type": "code",
   "execution_count": 14,
   "metadata": {},
   "outputs": [],
   "source": [
    "# movie title widget & img widget & genres widget\n",
    "movies_title=v.ListItemTitle(class_='deep-purple--text',children=[f\"{df['title'][0]}\"])\n",
    "movies_poster=v.Img(width=200,src=f\"{df['poster'][0]}\",contain=True)\n",
    "movies_cast=v.Chip(color='deep-purple',small=True,dark=True,light=True,children=[f\"{df['cast'][0]}\"])"
   ]
  },
  {
   "cell_type": "code",
   "execution_count": 15,
   "metadata": {},
   "outputs": [],
   "source": [
    "# select movie button widget\n",
    "select_w=v.Select(dense=True,solo=True,label='Movies',hint='Pick your favorite movie',prepend_icon=\"mdi-movie-roll\",persistent_hint=True,items=list(movies_data['title']))\n",
    "select_w.on_event('change',update_everything)"
   ]
  },
  {
   "cell_type": "code",
   "execution_count": 16,
   "metadata": {},
   "outputs": [],
   "source": [
    "# update button widget\n",
    "plot_update=v.Btn(outlined=True,color='deep-purple',small=True,children=[v.Icon(children=['mdi-sync'])])\n",
    "plot_update.on_event('click',update_click)"
   ]
  },
  {
   "cell_type": "code",
   "execution_count": 17,
   "metadata": {},
   "outputs": [
    {
     "data": {
      "application/vnd.jupyter.widget-view+json": {
       "model_id": "8f616ed7aa93445fa2b44d0e952f1257",
       "version_major": 2,
       "version_minor": 0
      },
      "text/plain": [
       "Html(children=[Row(children=[Col(children=[Select(dense=True, hint='Pick your favorite movie', items=['The Sha…"
      ]
     },
     "metadata": {},
     "output_type": "display_data"
    }
   ],
   "source": [
    "v.Html(tag='div',children=[v.Row(children=[v.Col(children=[\n",
    "    select_w,\n",
    "    v.Card(elevation=4,class_='overflow-y-auto',children=[\n",
    "        figure\n",
    "                          ])])]),\n",
    "    v.Row(children=[v.Col(xl=11,lg=10,md=10,sm=9,xs=9,class_='pb-2',children=[v.Card(children=[\n",
    "    v.ListItem(children=[v.ListItemContent(children=[v.ListItemTitle(class_='deep-purple--text text-uppercase',children=['Movies']),\n",
    "                                                                    ]),\n",
    "                        plot_update]),\n",
    "    v.Divider(),\n",
    "    v.List(dense=True,shaped=True,children=[movies_lst['lst']\n",
    "                    ]),\n",
    "    ]\n",
    "    )]),\n",
    "                                          v.Col(xl=1,lg=2,md=2,sm=3,xs=3,class_='pb-2',children=[v.Card(children=[\n",
    "                                          v.ListItem(children=[v.ListItemContent(children=[movies_title])]),\n",
    "                                          v.Divider(),\n",
    "#                                         v.Row(dense=True,children=[v.Col(cols=12,class_='pl-4',children=[movies_poster]),\n",
    "#                                                                     ]),\n",
    "                                          movies_poster,\n",
    "                                          v.Divider(),\n",
    "                                          v.CardText(children=[v.Html(tag='span',class_='subheading',children=['Cast:  ']),movies_cast])\n",
    "\n",
    "                                                                                      ])])\n",
    "                              ])])\n"
   ]
  },
  {
   "cell_type": "markdown",
   "metadata": {},
   "source": [
    "## Usage Instruction\n",
    "This system picks the movies that are the most similar to your selection and sorts the movies based on the prediction of your previous ratings. Then, you could add constraints on the parallel coordinates plot and, lastly, press on the refresh button. The movies that you are most likely to give the highest rating to will be listed."
   ]
  },
  {
   "cell_type": "markdown",
   "metadata": {},
   "source": [
    "Features:\n",
    "* `Selection` - Select a movie you like.\n",
    "* `Parallel Coordinates Plot` - Select on the y-axis (multiple selections, drag, and expand) to fine-tune the list with specific genre, year, and language etc.\n",
    "* `Movies List` - Click on the refresh button to refresh the list after you finish selecting on the parallel coordinates plot; click on each row in the list to find more details about the movie"
   ]
  },
  {
   "cell_type": "markdown",
   "metadata": {},
   "source": [
    "NOTES:\n",
    "* As this system requires users' ratings to predict their preferences, in addition to other various reasons (e.g. overall complexities), it currently only reflects my preferences. Also, I mostly watch drama, animation, and action movies, so the system won't give very accurate predictions for genres I barely touched on (horror, thriller etc).\n",
    "* <p style='color:red'> It may take a minute or two for the dashboard to appear. Try to reload the page if nothing shows up.</p>"
   ]
  }
 ],
 "metadata": {
  "kernelspec": {
   "display_name": "Python 3",
   "language": "python",
   "name": "python3"
  },
  "language_info": {
   "codemirror_mode": {
    "name": "ipython",
    "version": 3
   },
   "file_extension": ".py",
   "mimetype": "text/x-python",
   "name": "python",
   "nbconvert_exporter": "python",
   "pygments_lexer": "ipython3",
   "version": "3.7.7"
  }
 },
 "nbformat": 4,
 "nbformat_minor": 4
}
